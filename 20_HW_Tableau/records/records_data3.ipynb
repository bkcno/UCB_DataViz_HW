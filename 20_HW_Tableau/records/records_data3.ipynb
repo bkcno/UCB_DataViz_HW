{
 "cells": [
  {
   "cell_type": "code",
   "execution_count": 1,
   "metadata": {
    "collapsed": true
   },
   "outputs": [],
   "source": [
    "import pandas as pd\n",
    "df1 = pd.read_csv(\"winter_data/merged_winter.csv\", low_memory=False)\n",
    "df1_demo = df1[['tripduration','usertype','birth year', 'gender']].copy()\n",
    "df1_demo = df1_demo.query('gender != 0')\n",
    "df1_demo = df1_demo[df1_demo.gender.notnull()]"
   ]
  },
  {
   "cell_type": "code",
   "execution_count": 2,
   "metadata": {},
   "outputs": [
    {
     "name": "stdout",
     "output_type": "stream",
     "text": [
      "The Percentage of Female Riders vs. Male Riders is: 22.32% vs. 77.68%\n"
     ]
    }
   ],
   "source": [
    "df1_gender = df1_demo.groupby(['gender'], as_index=False).size()\n",
    "df1_gender = df1_gender.reset_index().rename(columns={\"gender\":\"gender\", 0:\"numbers\"})\n",
    "f_per = df1_gender['numbers'].iloc[1]/(df1_gender['numbers'].iloc[0]+df1_gender['numbers'].iloc[1])                                              \n",
    "m_per = df1_gender['numbers'].iloc[0]/(df1_gender['numbers'].iloc[0]+df1_gender['numbers'].iloc[1])\n",
    "print(\"The Percentage of Female Riders vs. Male Riders is: \"\"{:.2%}\".format(f_per) + \" vs. \" \"{:.2%}\".format(m_per) )"
   ]
  },
  {
   "cell_type": "code",
   "execution_count": 3,
   "metadata": {
    "collapsed": true
   },
   "outputs": [],
   "source": [
    "df2 = pd.read_csv(\"bike_trips_data/201802_citibikenyc_tripdata.csv\")\n",
    "df2_rider = df2[['tripduration','usertype','birth year', 'gender']].copy()\n",
    "df2_rider = df2_rider.query('gender != 0')\n",
    "df2_gender = df2_rider.groupby(['gender'], as_index=False).size()\n",
    "df2_gender = df2_gender.reset_index().rename(columns={\"gender\":\"gender\", 0:\"numbers_2018\"})"
   ]
  },
  {
   "cell_type": "code",
   "execution_count": 4,
   "metadata": {
    "collapsed": true
   },
   "outputs": [],
   "source": [
    "df3 = pd.read_csv(\"bike_trips_data/201502-citibike-tripdata.csv\")\n",
    "df3_rider = df3[['tripduration','usertype','birth year', 'gender']].copy()\n",
    "df3_rider = df3_rider.query('gender != 0')\n",
    "df3_gender = df3_rider.groupby(['gender'], as_index=False).size()\n",
    "df3_gender = df3_gender.reset_index().rename(columns={\"gender\":\"gender\", 0:\"numbers_2015\"})"
   ]
  },
  {
   "cell_type": "code",
   "execution_count": 5,
   "metadata": {},
   "outputs": [
    {
     "name": "stdout",
     "output_type": "stream",
     "text": [
      "The increase from 2015 to 2018 for femal riders is: 448.22% vs. 284.83%, for male riders in the same period.\n",
      "\n"
     ]
    },
    {
     "data": {
      "text/html": [
       "<div>\n",
       "<style>\n",
       "    .dataframe thead tr:only-child th {\n",
       "        text-align: right;\n",
       "    }\n",
       "\n",
       "    .dataframe thead th {\n",
       "        text-align: left;\n",
       "    }\n",
       "\n",
       "    .dataframe tbody tr th {\n",
       "        vertical-align: top;\n",
       "    }\n",
       "</style>\n",
       "<table border=\"1\" class=\"dataframe\">\n",
       "  <thead>\n",
       "    <tr style=\"text-align: right;\">\n",
       "      <th></th>\n",
       "      <th>gender</th>\n",
       "      <th>numbers_2018</th>\n",
       "      <th>numbers_2015</th>\n",
       "    </tr>\n",
       "  </thead>\n",
       "  <tbody>\n",
       "    <tr>\n",
       "      <th>0</th>\n",
       "      <td>1</td>\n",
       "      <td>621743</td>\n",
       "      <td>161563</td>\n",
       "    </tr>\n",
       "    <tr>\n",
       "      <th>1</th>\n",
       "      <td>2</td>\n",
       "      <td>181265</td>\n",
       "      <td>33064</td>\n",
       "    </tr>\n",
       "  </tbody>\n",
       "</table>\n",
       "</div>"
      ],
      "text/plain": [
       "   gender  numbers_2018  numbers_2015\n",
       "0       1        621743        161563\n",
       "1       2        181265         33064"
      ]
     },
     "execution_count": 5,
     "metadata": {},
     "output_type": "execute_result"
    }
   ],
   "source": [
    "result = df2_gender.merge(df3_gender, on='gender')\n",
    "\n",
    "f_increase = (result[\"numbers_2018\"].iloc[1] - result[\"numbers_2015\"].iloc[1]) / result[\"numbers_2015\"].iloc[1]\n",
    "m_increase = (result[\"numbers_2018\"].iloc[0] - result[\"numbers_2015\"].iloc[0]) / result[\"numbers_2015\"].iloc[0]\n",
    "print(\"The increase from 2015 to 2018 for femal riders is: \" \"{:.2%}\".format(f_increase) + \" vs. \" \"{:.2%}\".format(m_increase) + \", for male riders in the same period.\")\n",
    "print('')\n",
    "result"
   ]
  },
  {
   "cell_type": "code",
   "execution_count": 6,
   "metadata": {},
   "outputs": [],
   "source": [
    "import matplotlib.pyplot as plt\n",
    "df_age = df1_demo.groupby(['birth year'], as_index=False)['tripduration'].sum()\n",
    "df_age.plot(kind='scatter', x='birth year', y='tripduration')\n",
    "plt.savefig('age_vs_tripduration.png')"
   ]
  },
  {
   "cell_type": "code",
   "execution_count": null,
   "metadata": {
    "collapsed": true
   },
   "outputs": [],
   "source": []
  }
 ],
 "metadata": {
  "kernelspec": {
   "display_name": "Python [conda env:PythonData]",
   "language": "python",
   "name": "conda-env-PythonData-py"
  },
  "language_info": {
   "codemirror_mode": {
    "name": "ipython",
    "version": 3
   },
   "file_extension": ".py",
   "mimetype": "text/x-python",
   "name": "python",
   "nbconvert_exporter": "python",
   "pygments_lexer": "ipython3",
   "version": "3.6.1"
  }
 },
 "nbformat": 4,
 "nbformat_minor": 2
}
