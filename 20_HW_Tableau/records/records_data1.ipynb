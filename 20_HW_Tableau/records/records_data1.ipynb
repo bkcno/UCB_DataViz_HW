{
 "cells": [
  {
   "cell_type": "markdown",
   "metadata": {},
   "source": [
    "### Trips Recorded:"
   ]
  },
  {
   "cell_type": "code",
   "execution_count": 1,
   "metadata": {
    "collapsed": true
   },
   "outputs": [],
   "source": [
    "import glob\n",
    "\n",
    "files = glob.glob(\"bike_trips_data/*.csv\")\n",
    "\n",
    "def file_len(filename):\n",
    "    with open(filename) as f:\n",
    "        for i, l in enumerate(f):\n",
    "            pass\n",
    "    return i + 1\n",
    "\n",
    "csv_d = {f: file_len(f) for f in files}"
   ]
  },
  {
   "cell_type": "code",
   "execution_count": 2,
   "metadata": {
    "scrolled": true
   },
   "outputs": [
    {
     "name": "stdout",
     "output_type": "stream",
     "text": [
      "{\n",
      "    \"bike_trips_data/2013-07 - Citi Bike trip data.csv\": 843417,\n",
      "    \"bike_trips_data/2013-08 - Citi Bike trip data.csv\": 1001959,\n",
      "    \"bike_trips_data/2013-09 - Citi Bike trip data.csv\": 1034360,\n",
      "    \"bike_trips_data/2013-10 - Citi Bike trip data.csv\": 1037713,\n",
      "    \"bike_trips_data/2013-11 - Citi Bike trip data.csv\": 675775,\n",
      "    \"bike_trips_data/2013-12 - Citi Bike trip data.csv\": 443967,\n",
      "    \"bike_trips_data/2014-01 - Citi Bike trip data.csv\": 300401,\n",
      "    \"bike_trips_data/2014-02 - Citi Bike trip data.csv\": 224737,\n",
      "    \"bike_trips_data/2014-03 - Citi Bike trip data.csv\": 439118,\n",
      "    \"bike_trips_data/2014-04 - Citi Bike trip data.csv\": 670781,\n",
      "    \"bike_trips_data/2014-05 - Citi Bike trip data.csv\": 866118,\n",
      "    \"bike_trips_data/2014-06 - Citi Bike trip data.csv\": 936881,\n",
      "    \"bike_trips_data/2014-07 - Citi Bike trip data.csv\": 968843,\n",
      "    \"bike_trips_data/2014-08 - Citi Bike trip data.csv\": 963490,\n",
      "    \"bike_trips_data/201409-citibike-tripdata.csv\": 953888,\n",
      "    \"bike_trips_data/201410-citibike-tripdata.csv\": 828712,\n",
      "    \"bike_trips_data/201411-citibike-tripdata.csv\": 529189,\n",
      "    \"bike_trips_data/201412-citibike-tripdata.csv\": 399070,\n",
      "    \"bike_trips_data/201501-citibike-tripdata.csv\": 285553,\n",
      "    \"bike_trips_data/201502-citibike-tripdata.csv\": 196931,\n",
      "    \"bike_trips_data/201503-citibike-tripdata.csv\": 341827,\n",
      "    \"bike_trips_data/201504-citibike-tripdata.csv\": 652391,\n",
      "    \"bike_trips_data/201505-citibike-tripdata.csv\": 961987,\n",
      "    \"bike_trips_data/201506-citibike-tripdata.csv\": 941220,\n",
      "    \"bike_trips_data/201507-citibike-tripdata.csv\": 1085677,\n",
      "    \"bike_trips_data/201508-citibike-tripdata.csv\": 1179045,\n",
      "    \"bike_trips_data/201509-citibike-tripdata.csv\": 1289700,\n",
      "    \"bike_trips_data/201510-citibike-tripdata.csv\": 1212278,\n",
      "    \"bike_trips_data/201511-citibike-tripdata.csv\": 987246,\n",
      "    \"bike_trips_data/201512-citibike-tripdata.csv\": 804126,\n",
      "    \"bike_trips_data/201601-citibike-tripdata.csv\": 509479,\n",
      "    \"bike_trips_data/201602-citibike-tripdata.csv\": 560875,\n",
      "    \"bike_trips_data/201603-citibike-tripdata.csv\": 919922,\n",
      "    \"bike_trips_data/201604-citibike-tripdata.csv\": 1013150,\n",
      "    \"bike_trips_data/201605-citibike-tripdata.csv\": 1212281,\n",
      "    \"bike_trips_data/201606-citibike-tripdata.csv\": 1460319,\n",
      "    \"bike_trips_data/201607-citibike-tripdata.csv\": 1380111,\n",
      "    \"bike_trips_data/201608-citibike-tripdata.csv\": 1557664,\n",
      "    \"bike_trips_data/201609-citibike-tripdata.csv\": 1648857,\n",
      "    \"bike_trips_data/201610-citibike-tripdata.csv\": 1573873,\n",
      "    \"bike_trips_data/201611-citibike-tripdata.csv\": 1196943,\n",
      "    \"bike_trips_data/201612-citibike-tripdata.csv\": 812193,\n",
      "    \"bike_trips_data/201701-citibike-tripdata.csv\": 726677,\n",
      "    \"bike_trips_data/201702-citibike-tripdata.csv\": 791648,\n",
      "    \"bike_trips_data/201703-citibike-tripdata.csv\": 727666,\n",
      "    \"bike_trips_data/201704-citibike-tripdata.csv\": 1315405,\n",
      "    \"bike_trips_data/201705-citibike-tripdata.csv\": 1523269,\n",
      "    \"bike_trips_data/201706-citibike-tripdata.csv\": 1731595,\n",
      "    \"bike_trips_data/201707-citibike-tripdata.csv\": 1735600,\n",
      "    \"bike_trips_data/201708-citibike-tripdata.csv\": 1816499,\n",
      "    \"bike_trips_data/201709-citibike-tripdata.csv\": 1878099,\n",
      "    \"bike_trips_data/201710-citibike-tripdata.csv\": 1897593,\n",
      "    \"bike_trips_data/201711-citibike-tripdata.csv\": 1330650,\n",
      "    \"bike_trips_data/201712-citibike-tripdata.csv\": 889968,\n",
      "    \"bike_trips_data/201801_citibikenyc_tripdata.csv\": 718991,\n",
      "    \"bike_trips_data/201802_citibikenyc_tripdata.csv\": 843105\n",
      "}\n"
     ]
    }
   ],
   "source": [
    "import json\n",
    "print(json.dumps(csv_d, indent=4, sort_keys=True))"
   ]
  },
  {
   "cell_type": "code",
   "execution_count": 3,
   "metadata": {
    "scrolled": true
   },
   "outputs": [
    {
     "name": "stdout",
     "output_type": "stream",
     "text": [
      "CHECKPOINT: The total trips have been recorded since the inception of data in 2013 for NYC: 54,828,832\n"
     ]
    }
   ],
   "source": [
    "total = sum(csv_d.values())\n",
    "print(\"CHECKPOINT: The total trips have been recorded since the inception of data in 2013 for NYC: \" \"{0:,}\".format(total))"
   ]
  },
  {
   "cell_type": "markdown",
   "metadata": {},
   "source": [
    "### Rideship Change:"
   ]
  },
  {
   "cell_type": "code",
   "execution_count": 4,
   "metadata": {
    "collapsed": true
   },
   "outputs": [],
   "source": [
    "import glob\n",
    "import pandas as pd\n",
    "\n",
    "files = glob.glob(\"riders_members_data/*.csv\") \n",
    "\n",
    "header_saved = False\n",
    "with open('merged_membership.csv','w') as f_out:\n",
    "    for filename in files:\n",
    "        with open(filename) as f_in:\n",
    "            header = next(f_in)\n",
    "            if not header_saved:\n",
    "                f_out.write(header)\n",
    "                header_saved = True\n",
    "            for line in f_in:\n",
    "                f_out.write(line)"
   ]
  },
  {
   "cell_type": "code",
   "execution_count": 5,
   "metadata": {},
   "outputs": [
    {
     "data": {
      "text/html": [
       "<div>\n",
       "<style>\n",
       "    .dataframe thead tr:only-child th {\n",
       "        text-align: right;\n",
       "    }\n",
       "\n",
       "    .dataframe thead th {\n",
       "        text-align: left;\n",
       "    }\n",
       "\n",
       "    .dataframe tbody tr th {\n",
       "        vertical-align: top;\n",
       "    }\n",
       "</style>\n",
       "<table border=\"1\" class=\"dataframe\">\n",
       "  <thead>\n",
       "    <tr style=\"text-align: right;\">\n",
       "      <th></th>\n",
       "      <th>Trips over the past 24-hours (midnight to 11:59pm)</th>\n",
       "      <th>Cumulative trips (since launch):</th>\n",
       "      <th>Miles traveled today (midnight to 11:59 pm)</th>\n",
       "      <th>Miles traveled to date:</th>\n",
       "      <th>Total Annual Members</th>\n",
       "      <th>Annual Member Sign-Ups (midnight to 11:59 pm)</th>\n",
       "      <th>24-Hour Passes Purchased (midnight to 11:59 pm)</th>\n",
       "      <th>7-Day Passes Purchased (midnight to 11:59 pm)</th>\n",
       "    </tr>\n",
       "    <tr>\n",
       "      <th>Date</th>\n",
       "      <th></th>\n",
       "      <th></th>\n",
       "      <th></th>\n",
       "      <th></th>\n",
       "      <th></th>\n",
       "      <th></th>\n",
       "      <th></th>\n",
       "      <th></th>\n",
       "    </tr>\n",
       "  </thead>\n",
       "  <tbody>\n",
       "    <tr>\n",
       "      <th>5/27/13</th>\n",
       "      <td>9767</td>\n",
       "      <td>9767</td>\n",
       "      <td>21.533</td>\n",
       "      <td>21,533</td>\n",
       "      <td>17216</td>\n",
       "      <td>2043.0</td>\n",
       "      <td>0</td>\n",
       "      <td>0.0</td>\n",
       "    </tr>\n",
       "    <tr>\n",
       "      <th>5/28/13</th>\n",
       "      <td>5215</td>\n",
       "      <td>14982</td>\n",
       "      <td>8.780</td>\n",
       "      <td>30,313</td>\n",
       "      <td>19816</td>\n",
       "      <td>2598.0</td>\n",
       "      <td>0</td>\n",
       "      <td>0.0</td>\n",
       "    </tr>\n",
       "    <tr>\n",
       "      <th>5/29/13</th>\n",
       "      <td>10981</td>\n",
       "      <td>25963</td>\n",
       "      <td>21.898</td>\n",
       "      <td>52,211</td>\n",
       "      <td>21986</td>\n",
       "      <td>2167.0</td>\n",
       "      <td>0</td>\n",
       "      <td>0.0</td>\n",
       "    </tr>\n",
       "    <tr>\n",
       "      <th>5/30/13</th>\n",
       "      <td>9850</td>\n",
       "      <td>35813</td>\n",
       "      <td>20.321</td>\n",
       "      <td>72,532</td>\n",
       "      <td>23985</td>\n",
       "      <td>1998.0</td>\n",
       "      <td>0</td>\n",
       "      <td>0.0</td>\n",
       "    </tr>\n",
       "    <tr>\n",
       "      <th>5/31/13</th>\n",
       "      <td>9253</td>\n",
       "      <td>45066</td>\n",
       "      <td>20.243</td>\n",
       "      <td>92,775</td>\n",
       "      <td>25615</td>\n",
       "      <td>1630.0</td>\n",
       "      <td>0</td>\n",
       "      <td>0.0</td>\n",
       "    </tr>\n",
       "  </tbody>\n",
       "</table>\n",
       "</div>"
      ],
      "text/plain": [
       "         Trips over the past 24-hours (midnight to 11:59pm)  \\\n",
       "Date                                                          \n",
       "5/27/13                                               9767    \n",
       "5/28/13                                               5215    \n",
       "5/29/13                                              10981    \n",
       "5/30/13                                               9850    \n",
       "5/31/13                                               9253    \n",
       "\n",
       "        Cumulative trips (since launch):  \\\n",
       "Date                                       \n",
       "5/27/13                             9767   \n",
       "5/28/13                            14982   \n",
       "5/29/13                            25963   \n",
       "5/30/13                            35813   \n",
       "5/31/13                            45066   \n",
       "\n",
       "         Miles traveled today (midnight to 11:59 pm) Miles traveled to date:  \\\n",
       "Date                                                                           \n",
       "5/27/13                                       21.533                  21,533   \n",
       "5/28/13                                        8.780                  30,313   \n",
       "5/29/13                                       21.898                  52,211   \n",
       "5/30/13                                       20.321                  72,532   \n",
       "5/31/13                                       20.243                  92,775   \n",
       "\n",
       "         Total Annual Members  Annual Member Sign-Ups (midnight to 11:59 pm)  \\\n",
       "Date                                                                           \n",
       "5/27/13                 17216                                         2043.0   \n",
       "5/28/13                 19816                                         2598.0   \n",
       "5/29/13                 21986                                         2167.0   \n",
       "5/30/13                 23985                                         1998.0   \n",
       "5/31/13                 25615                                         1630.0   \n",
       "\n",
       "         24-Hour Passes Purchased (midnight to 11:59 pm)\\t  \\\n",
       "Date                                                         \n",
       "5/27/13                                                  0   \n",
       "5/28/13                                                  0   \n",
       "5/29/13                                                  0   \n",
       "5/30/13                                                  0   \n",
       "5/31/13                                                  0   \n",
       "\n",
       "         7-Day Passes Purchased (midnight to 11:59 pm)  \n",
       "Date                                                    \n",
       "5/27/13                                            0.0  \n",
       "5/28/13                                            0.0  \n",
       "5/29/13                                            0.0  \n",
       "5/30/13                                            0.0  \n",
       "5/31/13                                            0.0  "
      ]
     },
     "execution_count": 5,
     "metadata": {},
     "output_type": "execute_result"
    }
   ],
   "source": [
    "df = pd.read_csv('riders_members_data/merged_membership.csv', index_col=\"Date\")\n",
    "df.head()"
   ]
  },
  {
   "cell_type": "code",
   "execution_count": 7,
   "metadata": {},
   "outputs": [
    {
     "name": "stdout",
     "output_type": "stream",
     "text": [
      "CHECKPOINT: The total ridership (by total annual members) has grown since the launch in 2013 to 2016 by: 1099.96%\n"
     ]
    }
   ],
   "source": [
    "growth = (df['Total Annual Members'].iloc[-1] - df['Total Annual Members'].iloc[0])/df['Total Annual Members'].iloc[0]\n",
    "print(\"CHECKPOINT: The total ridership (by total annual members) has grown since the launch in 2013 to 2016 by: \" \"{:.2%}\".format(growth))"
   ]
  }
 ],
 "metadata": {
  "kernelspec": {
   "display_name": "Python [conda env:PythonData]",
   "language": "python",
   "name": "conda-env-PythonData-py"
  },
  "language_info": {
   "codemirror_mode": {
    "name": "ipython",
    "version": 3
   },
   "file_extension": ".py",
   "mimetype": "text/x-python",
   "name": "python",
   "nbconvert_exporter": "python",
   "pygments_lexer": "ipython3",
   "version": "3.6.1"
  }
 },
 "nbformat": 4,
 "nbformat_minor": 2
}
