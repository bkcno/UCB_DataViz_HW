{
 "cells": [
  {
   "cell_type": "code",
   "execution_count": 1,
   "metadata": {
    "collapsed": true
   },
   "outputs": [],
   "source": [
    "import numpy as np\n",
    "import pandas as pd\n",
    "import matplotlib.pyplot as plt\n",
    "import matplotlib.dates as mdates\n",
    "import datetime as dt\n",
    "from sqlalchemy import func\n",
    "\n",
    "from sqlalchemy.ext.automap import automap_base\n",
    "from sqlalchemy.orm import Session\n",
    "from sqlalchemy import create_engine, inspect\n",
    "\n",
    "from sqlcredentials import LOCAL_CREDENTIALS\n",
    "import pymysql\n",
    "pymysql.install_as_MySQLdb()"
   ]
  },
  {
   "cell_type": "code",
   "execution_count": 2,
   "metadata": {
    "collapsed": true
   },
   "outputs": [],
   "source": [
    "dialect = 'mysql'\n",
    "user = LOCAL_CREDENTIALS[\"user\"]  # 'root'\n",
    "password = LOCAL_CREDENTIALS[\"password\"]\n",
    "host = 'localhost'\n",
    "port = LOCAL_CREDENTIALS[\"port\"]  # 3306\n",
    "database = 'hawaii'\n",
    "\n",
    "engine = create_engine(f'{dialect}://{user}:{password}@{host}:{port}'\n",
    "                       f'/{database}')"
   ]
  },
  {
   "cell_type": "code",
   "execution_count": 3,
   "metadata": {
    "collapsed": true
   },
   "outputs": [],
   "source": [
    "Base = automap_base()"
   ]
  },
  {
   "cell_type": "code",
   "execution_count": 4,
   "metadata": {},
   "outputs": [],
   "source": [
    "import warnings\n",
    "warnings.filterwarnings(\"ignore\")\n",
    "Base.prepare(engine, reflect=True)"
   ]
  },
  {
   "cell_type": "code",
   "execution_count": 5,
   "metadata": {},
   "outputs": [
    {
     "data": {
      "text/plain": [
       "['measurements', 'stations']"
      ]
     },
     "execution_count": 5,
     "metadata": {},
     "output_type": "execute_result"
    }
   ],
   "source": [
    "Base.classes.keys()"
   ]
  },
  {
   "cell_type": "code",
   "execution_count": 6,
   "metadata": {
    "collapsed": true
   },
   "outputs": [],
   "source": [
    "Measurements = Base.classes.measurements\n",
    "Stations = Base.classes.stations"
   ]
  },
  {
   "cell_type": "code",
   "execution_count": 7,
   "metadata": {
    "collapsed": true
   },
   "outputs": [],
   "source": [
    "session = Session(engine)"
   ]
  },
  {
   "cell_type": "code",
   "execution_count": 8,
   "metadata": {},
   "outputs": [
    {
     "data": {
      "text/plain": [
       "[Column('id', INTEGER(display_width=11), table=<measurements>, primary_key=True, nullable=False),\n",
       " Column('station', TEXT(), table=<measurements>),\n",
       " Column('date', TEXT(), table=<measurements>),\n",
       " Column('prcp', DOUBLE(asdecimal=True), table=<measurements>),\n",
       " Column('tobs', INTEGER(display_width=11), table=<measurements>)]"
      ]
     },
     "execution_count": 8,
     "metadata": {},
     "output_type": "execute_result"
    }
   ],
   "source": [
    "list(Measurements.__table__.columns)\n",
    "# list(Stations.__table__.columns)"
   ]
  },
  {
   "cell_type": "markdown",
   "metadata": {},
   "source": [
    "## Precipitation Analysis"
   ]
  },
  {
   "cell_type": "code",
   "execution_count": 9,
   "metadata": {},
   "outputs": [
    {
     "data": {
      "text/plain": [
       "('2017-08-23')"
      ]
     },
     "execution_count": 9,
     "metadata": {},
     "output_type": "execute_result"
    }
   ],
   "source": [
    "dates = session.query(Measurements.date).order_by(Measurements.date.desc())\n",
    "               \n",
    "most_recent = dates.first()\n",
    "most_recent"
   ]
  },
  {
   "cell_type": "code",
   "execution_count": 10,
   "metadata": {},
   "outputs": [],
   "source": [
    "results = (session\n",
    "           .query(Measurements.date, Measurements.prcp)\n",
    "           .order_by(Measurements.date.desc())\n",
    "           .filter(Measurements.date >= '2016-08-23')\n",
    "           .all())\n",
    "# results"
   ]
  },
  {
   "cell_type": "code",
   "execution_count": 11,
   "metadata": {},
   "outputs": [
    {
     "data": {
      "text/plain": [
       "<bound method NDFrame.head of                     prcp\n",
       "date                    \n",
       "2017-08-23         0E-10\n",
       "2017-08-23         0E-10\n",
       "2017-08-23  0.0800000000\n",
       "2017-08-23  0.4500000000\n",
       "2017-08-22         0E-10\n",
       "2017-08-22         0E-10\n",
       "2017-08-22  0.5000000000\n",
       "2017-08-21         0E-10\n",
       "2017-08-21  0.0200000000\n",
       "2017-08-21  0.5600000000\n",
       "2017-08-20         0E-10\n",
       "2017-08-20  0.0100000000\n",
       "2017-08-19         0E-10\n",
       "2017-08-19         0E-10\n",
       "2017-08-19  0.0900000000\n",
       "2017-08-18  0.0600000000\n",
       "2017-08-18         0E-10\n",
       "2017-08-18         0E-10\n",
       "2017-08-17  0.0100000000\n",
       "2017-08-17         0E-10\n",
       "2017-08-17  0.0500000000\n",
       "2017-08-17  0.1300000000\n",
       "2017-08-16  0.1200000000\n",
       "2017-08-16         0E-10\n",
       "2017-08-16  0.0700000000\n",
       "2017-08-16  0.4200000000\n",
       "2017-08-15  0.3200000000\n",
       "2017-08-15  0.0200000000\n",
       "2017-08-15         0E-10\n",
       "2017-08-15  0.0600000000\n",
       "...                  ...\n",
       "2016-08-27         0E-10\n",
       "2016-08-27  0.1200000000\n",
       "2016-08-27         0E-10\n",
       "2016-08-27  0.0200000000\n",
       "2016-08-27  0.1800000000\n",
       "2016-08-26  0.0400000000\n",
       "2016-08-26         0E-10\n",
       "2016-08-26  0.0100000000\n",
       "2016-08-26         0E-10\n",
       "2016-08-26  0.0200000000\n",
       "2016-08-26  0.0300000000\n",
       "2016-08-25         0E-10\n",
       "2016-08-25  0.0800000000\n",
       "2016-08-25  0.0600000000\n",
       "2016-08-25  0.2100000000\n",
       "2016-08-25  0.1100000000\n",
       "2016-08-25         0E-10\n",
       "2016-08-25  0.0800000000\n",
       "2016-08-24  0.0800000000\n",
       "2016-08-24  2.1500000000\n",
       "2016-08-24  1.2200000000\n",
       "2016-08-24  1.4500000000\n",
       "2016-08-24  2.2800000000\n",
       "2016-08-24  2.1500000000\n",
       "2016-08-23         0E-10\n",
       "2016-08-23  1.7900000000\n",
       "2016-08-23  0.0200000000\n",
       "2016-08-23  0.7000000000\n",
       "2016-08-23  0.0500000000\n",
       "2016-08-23  0.1500000000\n",
       "\n",
       "[2021 rows x 1 columns]>"
      ]
     },
     "execution_count": 11,
     "metadata": {},
     "output_type": "execute_result"
    }
   ],
   "source": [
    "df = pd.DataFrame(results, columns=['date', 'prcp'])\n",
    "df.set_index('date', inplace=True, )\n",
    "df.head"
   ]
  },
  {
   "cell_type": "markdown",
   "metadata": {},
   "source": [
    "## Precipitation Analysis"
   ]
  },
  {
   "cell_type": "code",
   "execution_count": 48,
   "metadata": {},
   "outputs": [
    {
     "data": {
      "image/png": "[encoded data removed]",
      "text/plain": [
       "<matplotlib.figure.Figure at 0x11885a518>"
      ]
     },
     "metadata": {},
     "output_type": "display_data"
    }
   ],
   "source": [
    "x_values = np.arange(len(df))\n",
    "\n",
    "plt.figure(figsize=(18, 12))\n",
    "\n",
    "plt.bar(x_values, df[\"prcp\"], color='darkblue', alpha=0.8, width=10)\n",
    "plt.xticks(x_values, df.index.values, rotation=45)\n",
    "\n",
    "plt.locator_params(nbins=12,axis='x')\n",
    "plt.legend(df)\n",
    "plt.ylabel(\"Precipitation\")\n",
    "plt.xlabel(\"Date\")\n",
    "\n",
    "# plt.savefig(\"precipitation.png\")\n",
    "plt.show()"
   ]
  },
  {
   "cell_type": "markdown",
   "metadata": {
    "collapsed": true
   },
   "source": [
    "## Station Analysis"
   ]
  },
  {
   "cell_type": "code",
   "execution_count": 13,
   "metadata": {},
   "outputs": [
    {
     "name": "stdout",
     "output_type": "stream",
     "text": [
      "Numbers of staions: 9\n"
     ]
    }
   ],
   "source": [
    "stations_total = (session\n",
    "                   .query(Measurements.station)\n",
    "                   .group_by(Measurements.station)\n",
    "                   .count())\n",
    "print(f'Numbers of staions: {stations_total}')"
   ]
  },
  {
   "cell_type": "code",
   "execution_count": 31,
   "metadata": {},
   "outputs": [
    {
     "data": {
      "text/plain": [
       "[('USC00519281', 2772),\n",
       " ('USC00513117', 2696),\n",
       " ('USC00519397', 2685),\n",
       " ('USC00519523', 2572),\n",
       " ('USC00516128', 2484),\n",
       " ('USC00514830', 1937),\n",
       " ('USC00511918', 1932),\n",
       " ('USC00517948', 683),\n",
       " ('USC00518838', 342)]"
      ]
     },
     "execution_count": 31,
     "metadata": {},
     "output_type": "execute_result"
    }
   ],
   "source": [
    "stations_active = (session\n",
    "                   .query(Measurements.station, func.count(Measurements.station))\n",
    "                   .group_by(Measurements.station)\n",
    "                   .order_by(func.count(Measurements.station).desc())\n",
    "                   .all())\n",
    "stations_active"
   ]
  },
  {
   "cell_type": "code",
   "execution_count": 41,
   "metadata": {},
   "outputs": [
    {
     "name": "stdout",
     "output_type": "stream",
     "text": [
      "The most active station: USC00519281 with 2772 observations\n"
     ]
    }
   ],
   "source": [
    "most_active = stations_active[0]\n",
    "print(f'The most active station: {most_active[0]} with {most_active[1]} observations')"
   ]
  },
  {
   "cell_type": "code",
   "execution_count": 37,
   "metadata": {},
   "outputs": [
    {
     "data": {
      "text/plain": [
       "[('2017-08-18', 79),\n",
       " ('2017-08-17', 76),\n",
       " ('2017-08-16', 76),\n",
       " ('2017-08-15', 77),\n",
       " ('2017-08-14', 77),\n",
       " ('2017-08-13', 77),\n",
       " ('2017-08-06', 83),\n",
       " ('2017-08-05', 82),\n",
       " ('2017-08-04', 77),\n",
       " ('2017-07-31', 76),\n",
       " ('2017-07-30', 81),\n",
       " ('2017-07-29', 82),\n",
       " ('2017-07-28', 81),\n",
       " ('2017-07-27', 76),\n",
       " ('2017-07-26', 75),\n",
       " ('2017-07-25', 77),\n",
       " ('2017-07-24', 75),\n",
       " ('2017-07-23', 82),\n",
       " ('2017-07-22', 77),\n",
       " ('2017-07-21', 77),\n",
       " ('2017-07-20', 77),\n",
       " ('2017-07-19', 76),\n",
       " ('2017-07-18', 76),\n",
       " ('2017-07-17', 76),\n",
       " ('2017-07-16', 80),\n",
       " ('2017-07-15', 80),\n",
       " ('2017-07-14', 76),\n",
       " ('2017-07-13', 74),\n",
       " ('2017-07-12', 74),\n",
       " ('2017-07-11', 72),\n",
       " ('2017-07-10', 69),\n",
       " ('2017-07-09', 78),\n",
       " ('2017-07-08', 78),\n",
       " ('2017-07-07', 75),\n",
       " ('2017-07-06', 74),\n",
       " ('2017-07-05', 77),\n",
       " ('2017-07-04', 78),\n",
       " ('2017-07-03', 76),\n",
       " ('2017-07-02', 81),\n",
       " ('2017-07-01', 79),\n",
       " ('2017-06-30', 76),\n",
       " ('2017-06-29', 76),\n",
       " ('2017-06-28', 77),\n",
       " ('2017-06-27', 76),\n",
       " ('2017-06-26', 73),\n",
       " ('2017-06-25', 71),\n",
       " ('2017-06-24', 77),\n",
       " ('2017-06-23', 72),\n",
       " ('2017-06-22', 72),\n",
       " ('2017-06-21', 74),\n",
       " ('2017-06-20', 72),\n",
       " ('2017-06-19', 72),\n",
       " ('2017-06-18', 75),\n",
       " ('2017-06-17', 79),\n",
       " ('2017-06-16', 73),\n",
       " ('2017-06-15', 75),\n",
       " ('2017-06-14', 74),\n",
       " ('2017-06-13', 76),\n",
       " ('2017-06-12', 74),\n",
       " ('2017-06-11', 74),\n",
       " ('2017-06-10', 74),\n",
       " ('2017-06-09', 72),\n",
       " ('2017-06-08', 75),\n",
       " ('2017-06-07', 75),\n",
       " ('2017-06-06', 75),\n",
       " ('2017-06-05', 75),\n",
       " ('2017-06-04', 77),\n",
       " ('2017-06-03', 76),\n",
       " ('2017-06-02', 76),\n",
       " ('2017-06-01', 80),\n",
       " ('2017-05-31', 75),\n",
       " ('2017-05-30', 72),\n",
       " ('2017-05-29', 74),\n",
       " ('2017-05-28', 80),\n",
       " ('2017-05-27', 74),\n",
       " ('2017-05-26', 74),\n",
       " ('2017-05-25', 74),\n",
       " ('2017-05-24', 74),\n",
       " ('2017-05-23', 71),\n",
       " ('2017-05-22', 71),\n",
       " ('2017-05-21', 74),\n",
       " ('2017-05-20', 76),\n",
       " ('2017-05-19', 68),\n",
       " ('2017-05-18', 69),\n",
       " ('2017-05-17', 74),\n",
       " ('2017-05-16', 74),\n",
       " ('2017-05-15', 74),\n",
       " ('2017-05-14', 77),\n",
       " ('2017-05-13', 76),\n",
       " ('2017-05-12', 75),\n",
       " ('2017-05-11', 70),\n",
       " ('2017-05-10', 74),\n",
       " ('2017-05-09', 67),\n",
       " ('2017-05-08', 70),\n",
       " ('2017-05-07', 75),\n",
       " ('2017-05-06', 79),\n",
       " ('2017-05-05', 70),\n",
       " ('2017-05-04', 75),\n",
       " ('2017-05-03', 70),\n",
       " ('2017-05-02', 75),\n",
       " ('2017-05-01', 65),\n",
       " ('2017-04-30', 60),\n",
       " ('2017-04-29', 72),\n",
       " ('2017-04-28', 67),\n",
       " ('2017-04-27', 70),\n",
       " ('2017-04-26', 74),\n",
       " ('2017-04-25', 72),\n",
       " ('2017-04-24', 68),\n",
       " ('2017-04-23', 76),\n",
       " ('2017-04-22', 72),\n",
       " ('2017-04-21', 69),\n",
       " ('2017-04-20', 76),\n",
       " ('2017-04-19', 67),\n",
       " ('2017-04-18', 68),\n",
       " ('2017-04-17', 67),\n",
       " ('2017-04-16', 71),\n",
       " ('2017-04-15', 78),\n",
       " ('2017-04-14', 74),\n",
       " ('2017-04-13', 69),\n",
       " ('2017-04-12', 69),\n",
       " ('2017-04-11', 70),\n",
       " ('2017-04-10', 67),\n",
       " ('2017-04-09', 78),\n",
       " ('2017-04-08', 77),\n",
       " ('2017-04-07', 74),\n",
       " ('2017-04-06', 67),\n",
       " ('2017-04-05', 71),\n",
       " ('2017-04-04', 67),\n",
       " ('2017-04-03', 70),\n",
       " ('2017-04-02', 75),\n",
       " ('2017-04-01', 74),\n",
       " ('2017-03-31', 71),\n",
       " ('2017-03-30', 73),\n",
       " ('2017-03-29', 68),\n",
       " ('2017-03-28', 74),\n",
       " ('2017-03-27', 76),\n",
       " ('2017-03-26', 77),\n",
       " ('2017-03-25', 76),\n",
       " ('2017-03-24', 71),\n",
       " ('2017-03-23', 72),\n",
       " ('2017-03-22', 73),\n",
       " ('2017-03-21', 72),\n",
       " ('2017-03-20', 69),\n",
       " ('2017-03-19', 74),\n",
       " ('2017-03-18', 65),\n",
       " ('2017-03-17', 68),\n",
       " ('2017-03-16', 66),\n",
       " ('2017-03-15', 69),\n",
       " ('2017-03-14', 67),\n",
       " ('2017-03-13', 66),\n",
       " ('2017-03-12', 69),\n",
       " ('2017-03-11', 81),\n",
       " ('2017-03-10', 66),\n",
       " ('2017-03-09', 67),\n",
       " ('2017-03-08', 64),\n",
       " ('2017-03-07', 62),\n",
       " ('2017-03-06', 67),\n",
       " ('2017-03-05', 73),\n",
       " ('2017-03-04', 77),\n",
       " ('2017-03-03', 72),\n",
       " ('2017-03-02', 73),\n",
       " ('2017-03-01', 71),\n",
       " ('2017-02-28', 72),\n",
       " ('2017-02-27', 65),\n",
       " ('2017-02-26', 67),\n",
       " ('2017-02-25', 61),\n",
       " ('2017-02-24', 69),\n",
       " ('2017-02-23', 71),\n",
       " ('2017-02-22', 71),\n",
       " ('2017-02-21', 71),\n",
       " ('2017-02-20', 70),\n",
       " ('2017-02-19', 70),\n",
       " ('2017-02-18', 74),\n",
       " ('2017-02-17', 70),\n",
       " ('2017-02-16', 65),\n",
       " ('2017-02-15', 75),\n",
       " ('2017-02-14', 79),\n",
       " ('2017-02-13', 73),\n",
       " ('2017-02-12', 70),\n",
       " ('2017-02-11', 68),\n",
       " ('2017-02-10', 62),\n",
       " ('2017-02-09', 59),\n",
       " ('2017-02-08', 59),\n",
       " ('2017-02-07', 64),\n",
       " ('2017-02-06', 75),\n",
       " ('2017-02-05', 73),\n",
       " ('2017-02-04', 70),\n",
       " ('2017-02-03', 60),\n",
       " ('2017-02-02', 59),\n",
       " ('2017-02-01', 68),\n",
       " ('2017-01-31', 68),\n",
       " ('2017-01-30', 68),\n",
       " ('2017-01-29', 69),\n",
       " ('2017-01-28', 65),\n",
       " ('2017-01-27', 66),\n",
       " ('2017-01-26', 70),\n",
       " ('2017-01-25', 69),\n",
       " ('2017-01-24', 72),\n",
       " ('2017-01-23', 72),\n",
       " ('2017-01-22', 71),\n",
       " ('2017-01-21', 71),\n",
       " ('2017-01-20', 69),\n",
       " ('2017-01-19', 71),\n",
       " ('2017-01-18', 72),\n",
       " ('2017-01-17', 69),\n",
       " ('2017-01-16', 74),\n",
       " ('2017-01-15', 70),\n",
       " ('2017-01-14', 77),\n",
       " ('2017-01-13', 69),\n",
       " ('2017-01-12', 65),\n",
       " ('2017-01-11', 63),\n",
       " ('2017-01-10', 62),\n",
       " ('2017-01-09', 62),\n",
       " ('2017-01-08', 70),\n",
       " ('2017-01-07', 70),\n",
       " ('2017-01-06', 62),\n",
       " ('2017-01-05', 63),\n",
       " ('2017-01-04', 63),\n",
       " ('2017-01-03', 64),\n",
       " ('2017-01-02', 70),\n",
       " ('2017-01-01', 72),\n",
       " ('2016-12-31', 67),\n",
       " ('2016-12-30', 69),\n",
       " ('2016-12-29', 74),\n",
       " ('2016-12-28', 72),\n",
       " ('2016-12-27', 71),\n",
       " ('2016-12-26', 72),\n",
       " ('2016-12-25', 74),\n",
       " ('2016-12-24', 74),\n",
       " ('2016-12-23', 71),\n",
       " ('2016-12-22', 73),\n",
       " ('2016-12-21', 74),\n",
       " ('2016-12-20', 76),\n",
       " ('2016-12-19', 76),\n",
       " ('2016-12-18', 69),\n",
       " ('2016-12-17', 70),\n",
       " ('2016-12-16', 75),\n",
       " ('2016-12-15', 62),\n",
       " ('2016-12-14', 68),\n",
       " ('2016-12-13', 65),\n",
       " ('2016-12-12', 66),\n",
       " ('2016-12-11', 69),\n",
       " ('2016-12-10', 69),\n",
       " ('2016-12-09', 68),\n",
       " ('2016-12-08', 70),\n",
       " ('2016-12-07', 69),\n",
       " ('2016-12-06', 67),\n",
       " ('2016-12-05', 67),\n",
       " ('2016-12-04', 70),\n",
       " ('2016-12-03', 72),\n",
       " ('2016-12-02', 70),\n",
       " ('2016-12-01', 74),\n",
       " ('2016-11-30', 73),\n",
       " ('2016-11-29', 73),\n",
       " ('2016-11-28', 75),\n",
       " ('2016-11-27', 73),\n",
       " ('2016-11-26', 75),\n",
       " ('2016-11-25', 74),\n",
       " ('2016-11-24', 75),\n",
       " ('2016-11-23', 74),\n",
       " ('2016-11-22', 75),\n",
       " ('2016-11-21', 73),\n",
       " ('2016-11-20', 75),\n",
       " ('2016-11-19', 73),\n",
       " ('2016-11-18', 75),\n",
       " ('2016-11-17', 76),\n",
       " ('2016-11-16', 75),\n",
       " ('2016-11-15', 76),\n",
       " ('2016-11-14', 76),\n",
       " ('2016-11-13', 77),\n",
       " ('2016-11-12', 74),\n",
       " ('2016-11-11', 77),\n",
       " ('2016-11-10', 67),\n",
       " ('2016-11-09', 68),\n",
       " ('2016-11-08', 70),\n",
       " ('2016-11-07', 63),\n",
       " ('2016-11-06', 71),\n",
       " ('2016-11-05', 75),\n",
       " ('2016-11-04', 75),\n",
       " ('2016-11-03', 75),\n",
       " ('2016-11-02', 75),\n",
       " ('2016-11-01', 74),\n",
       " ('2016-10-31', 76),\n",
       " ('2016-10-30', 76),\n",
       " ('2016-10-29', 77),\n",
       " ('2016-10-28', 74),\n",
       " ('2016-10-27', 76),\n",
       " ('2016-10-26', 73),\n",
       " ('2016-10-25', 76),\n",
       " ('2016-10-24', 75),\n",
       " ('2016-10-23', 74),\n",
       " ('2016-10-22', 77),\n",
       " ('2016-10-21', 78),\n",
       " ('2016-10-20', 78),\n",
       " ('2016-10-19', 78),\n",
       " ('2016-10-18', 78),\n",
       " ('2016-10-17', 77),\n",
       " ('2016-10-16', 79),\n",
       " ('2016-10-15', 77),\n",
       " ('2016-10-14', 79),\n",
       " ('2016-10-13', 78),\n",
       " ('2016-10-12', 79),\n",
       " ('2016-10-11', 77),\n",
       " ('2016-10-10', 71),\n",
       " ('2016-10-09', 72),\n",
       " ('2016-10-08', 73),\n",
       " ('2016-10-07', 76),\n",
       " ('2016-10-06', 75),\n",
       " ('2016-10-05', 79),\n",
       " ('2016-10-04', 79),\n",
       " ('2016-10-03', 79),\n",
       " ('2016-10-02', 79),\n",
       " ('2016-10-01', 77),\n",
       " ('2016-09-30', 78),\n",
       " ('2016-09-29', 78),\n",
       " ('2016-09-28', 78),\n",
       " ('2016-09-27', 80),\n",
       " ('2016-09-26', 77),\n",
       " ('2016-09-25', 79),\n",
       " ('2016-09-24', 79),\n",
       " ('2016-09-23', 78),\n",
       " ('2016-09-22', 77),\n",
       " ('2016-09-21', 74),\n",
       " ('2016-09-20', 76),\n",
       " ('2016-09-19', 78),\n",
       " ('2016-09-18', 78),\n",
       " ('2016-09-17', 79),\n",
       " ('2016-09-16', 78),\n",
       " ('2016-09-15', 79),\n",
       " ('2016-09-14', 75),\n",
       " ('2016-09-13', 79),\n",
       " ('2016-09-12', 76),\n",
       " ('2016-09-11', 80),\n",
       " ('2016-09-10', 77),\n",
       " ('2016-09-09', 79),\n",
       " ('2016-09-08', 80),\n",
       " ('2016-09-07', 74),\n",
       " ('2016-09-06', 73),\n",
       " ('2016-09-05', 78),\n",
       " ('2016-09-04', 78),\n",
       " ('2016-09-03', 78),\n",
       " ('2016-09-02', 80),\n",
       " ('2016-09-01', 80),\n",
       " ('2016-08-31', 78),\n",
       " ('2016-08-30', 77),\n",
       " ('2016-08-29', 78),\n",
       " ('2016-08-28', 73),\n",
       " ('2016-08-27', 75),\n",
       " ('2016-08-26', 80),\n",
       " ('2016-08-25', 80),\n",
       " ('2016-08-24', 77),\n",
       " ('2016-08-23', 77)]"
      ]
     },
     "execution_count": 37,
     "metadata": {},
     "output_type": "execute_result"
    }
   ],
   "source": [
    "results1 = (session\n",
    "           .query(Measurements.date, Measurements.tobs)\n",
    "           .order_by(Measurements.date.desc())\n",
    "           .filter(Measurements.station == 'USC00519281')\n",
    "           .filter(Measurements.date >= '2016-08-23')\n",
    "           .all())\n",
    "results1"
   ]
  },
  {
   "cell_type": "code",
   "execution_count": 43,
   "metadata": {},
   "outputs": [
    {
     "data": {
      "text/html": [
       "<div>\n",
       "<style>\n",
       "    .dataframe thead tr:only-child th {\n",
       "        text-align: right;\n",
       "    }\n",
       "\n",
       "    .dataframe thead th {\n",
       "        text-align: left;\n",
       "    }\n",
       "\n",
       "    .dataframe tbody tr th {\n",
       "        vertical-align: top;\n",
       "    }\n",
       "</style>\n",
       "<table border=\"1\" class=\"dataframe\">\n",
       "  <thead>\n",
       "    <tr style=\"text-align: right;\">\n",
       "      <th></th>\n",
       "      <th>tobs</th>\n",
       "    </tr>\n",
       "    <tr>\n",
       "      <th>date</th>\n",
       "      <th></th>\n",
       "    </tr>\n",
       "  </thead>\n",
       "  <tbody>\n",
       "    <tr>\n",
       "      <th>2017-08-18</th>\n",
       "      <td>79</td>\n",
       "    </tr>\n",
       "    <tr>\n",
       "      <th>2017-08-17</th>\n",
       "      <td>76</td>\n",
       "    </tr>\n",
       "    <tr>\n",
       "      <th>2017-08-16</th>\n",
       "      <td>76</td>\n",
       "    </tr>\n",
       "    <tr>\n",
       "      <th>2017-08-15</th>\n",
       "      <td>77</td>\n",
       "    </tr>\n",
       "    <tr>\n",
       "      <th>2017-08-14</th>\n",
       "      <td>77</td>\n",
       "    </tr>\n",
       "  </tbody>\n",
       "</table>\n",
       "</div>"
      ],
      "text/plain": [
       "            tobs\n",
       "date            \n",
       "2017-08-18    79\n",
       "2017-08-17    76\n",
       "2017-08-16    76\n",
       "2017-08-15    77\n",
       "2017-08-14    77"
      ]
     },
     "execution_count": 43,
     "metadata": {},
     "output_type": "execute_result"
    }
   ],
   "source": [
    "df1 = pd.DataFrame(results1, columns=['date', 'tobs'])\n",
    "df1.set_index('date', inplace=True, )\n",
    "df1.head()"
   ]
  },
  {
   "cell_type": "code",
   "execution_count": 55,
   "metadata": {},
   "outputs": [
    {
     "data": {
      "image/png": "[encoded data removed]",
      "text/plain": [
       "<matplotlib.figure.Figure at 0x1196c6518>"
      ]
     },
     "metadata": {},
     "output_type": "display_data"
    }
   ],
   "source": [
    "nbins = 12\n",
    "x_values = df1['tobs']\n",
    "plt.hist(x_values, nbins, color='purple')\n",
    "plt.legend(df1)\n",
    "plt.ylabel('Frequency')\n",
    "plt.xlabel('Temp')\n",
    "plt.grid()\n",
    "\n",
    "plt.show()"
   ]
  },
  {
   "cell_type": "markdown",
   "metadata": {},
   "source": [
    "## Temperature Analysis"
   ]
  },
  {
   "cell_type": "code",
   "execution_count": 57,
   "metadata": {},
   "outputs": [
    {
     "data": {
      "text/plain": [
       "([(68)], [(80)], [(Decimal('74.5806'))])"
      ]
     },
     "execution_count": 57,
     "metadata": {},
     "output_type": "execute_result"
    }
   ],
   "source": [
    "start_date = '2017-03-23'\n",
    "end_date = '2017-04-02'\n",
    "def calc_temps (s, e):\n",
    "    min_temp = session.query(func.min(Measurements.tobs)).filter(Measurements.date >= s).filter(Measurements.date <= e).all()\n",
    "    avg_temp = session.query(func.avg(Measurements.tobs)).filter(Measurements.date >= s).filter(Measurements.date <= e).all()\n",
    "    max_temp = session.query(func.max(Measurements.tobs)).filter(Measurements.date >= s).filter(Measurements.date <= e).all()\n",
    "    \n",
    "    return min_temp, max_temp, avg_temp\n",
    "    \n",
    "temp = calc_temps(start_date, end_date)\n",
    "temp"
   ]
  },
  {
   "cell_type": "code",
   "execution_count": null,
   "metadata": {
    "collapsed": true
   },
   "outputs": [],
   "source": []
  }
 ],
 "metadata": {
  "kernelspec": {
   "display_name": "Python [default]",
   "language": "python",
   "name": "python3"
  },
  "language_info": {
   "codemirror_mode": {
    "name": "ipython",
    "version": 3
   },
   "file_extension": ".py",
   "mimetype": "text/x-python",
   "name": "python",
   "nbconvert_exporter": "python",
   "pygments_lexer": "ipython3",
   "version": "3.6.1"
  }
 },
 "nbformat": 4,
 "nbformat_minor": 2
}
