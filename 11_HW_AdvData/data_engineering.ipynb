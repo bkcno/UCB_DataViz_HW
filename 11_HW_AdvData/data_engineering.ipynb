{
 "cells": [
  {
   "cell_type": "code",
   "execution_count": 7,
   "metadata": {
    "collapsed": true
   },
   "outputs": [],
   "source": [
    "import os\n",
    "import pandas as pd"
   ]
  },
  {
   "cell_type": "code",
   "execution_count": 8,
   "metadata": {
    "collapsed": true
   },
   "outputs": [],
   "source": [
    "csvpath_m = os.path.join('hawaii_measurements.csv')\n",
    "csvpath_s = os.path.join('hawaii_stations.csv')"
   ]
  },
  {
   "cell_type": "code",
   "execution_count": 9,
   "metadata": {},
   "outputs": [
    {
     "data": {
      "text/plain": [
       "<bound method NDFrame.head of            station        date  prcp  tobs\n",
       "0      USC00519397  2010-01-01  0.08    65\n",
       "1      USC00519397  2010-01-02  0.00    63\n",
       "2      USC00519397  2010-01-03  0.00    74\n",
       "3      USC00519397  2010-01-04  0.00    76\n",
       "5      USC00519397  2010-01-07  0.06    70\n",
       "6      USC00519397  2010-01-08  0.00    64\n",
       "7      USC00519397  2010-01-09  0.00    68\n",
       "8      USC00519397  2010-01-10  0.00    73\n",
       "9      USC00519397  2010-01-11  0.01    64\n",
       "10     USC00519397  2010-01-12  0.00    61\n",
       "11     USC00519397  2010-01-14  0.00    66\n",
       "12     USC00519397  2010-01-15  0.00    65\n",
       "13     USC00519397  2010-01-16  0.00    68\n",
       "14     USC00519397  2010-01-17  0.00    64\n",
       "15     USC00519397  2010-01-18  0.00    72\n",
       "16     USC00519397  2010-01-19  0.00    66\n",
       "17     USC00519397  2010-01-20  0.00    66\n",
       "18     USC00519397  2010-01-21  0.00    69\n",
       "19     USC00519397  2010-01-22  0.00    67\n",
       "20     USC00519397  2010-01-23  0.00    67\n",
       "21     USC00519397  2010-01-24  0.01    71\n",
       "22     USC00519397  2010-01-25  0.00    67\n",
       "23     USC00519397  2010-01-26  0.04    76\n",
       "24     USC00519397  2010-01-27  0.12    68\n",
       "25     USC00519397  2010-01-28  0.00    72\n",
       "27     USC00519397  2010-01-31  0.03    67\n",
       "28     USC00519397  2010-02-01  0.01    66\n",
       "30     USC00519397  2010-02-04  0.01    69\n",
       "31     USC00519397  2010-02-05  0.00    67\n",
       "32     USC00519397  2010-02-06  0.00    67\n",
       "...            ...         ...   ...   ...\n",
       "19513  USC00516128  2017-07-17  0.39    72\n",
       "19514  USC00516128  2017-07-18  2.40    77\n",
       "19515  USC00516128  2017-07-19  0.27    74\n",
       "19516  USC00516128  2017-07-20  0.70    75\n",
       "19517  USC00516128  2017-07-21  0.10    72\n",
       "19518  USC00516128  2017-07-22  4.00    72\n",
       "19519  USC00516128  2017-07-23  0.80    78\n",
       "19520  USC00516128  2017-07-24  0.84    77\n",
       "19521  USC00516128  2017-07-25  0.30    79\n",
       "19522  USC00516128  2017-07-26  0.30    73\n",
       "19523  USC00516128  2017-07-27  0.00    75\n",
       "19524  USC00516128  2017-07-28  0.40    73\n",
       "19525  USC00516128  2017-07-29  0.30    77\n",
       "19526  USC00516128  2017-07-30  0.30    79\n",
       "19527  USC00516128  2017-07-31  0.00    74\n",
       "19529  USC00516128  2017-08-02  0.25    80\n",
       "19530  USC00516128  2017-08-03  0.06    76\n",
       "19533  USC00516128  2017-08-07  0.05    78\n",
       "19534  USC00516128  2017-08-08  0.34    74\n",
       "19535  USC00516128  2017-08-09  0.15    71\n",
       "19536  USC00516128  2017-08-10  0.07    75\n",
       "19538  USC00516128  2017-08-12  0.14    74\n",
       "19540  USC00516128  2017-08-14  0.22    79\n",
       "19541  USC00516128  2017-08-15  0.42    70\n",
       "19542  USC00516128  2017-08-16  0.42    71\n",
       "19543  USC00516128  2017-08-17  0.13    72\n",
       "19545  USC00516128  2017-08-19  0.09    71\n",
       "19547  USC00516128  2017-08-21  0.56    76\n",
       "19548  USC00516128  2017-08-22  0.50    76\n",
       "19549  USC00516128  2017-08-23  0.45    76\n",
       "\n",
       "[18103 rows x 4 columns]>"
      ]
     },
     "execution_count": 9,
     "metadata": {},
     "output_type": "execute_result"
    }
   ],
   "source": [
    "df_m = pd.read_csv(csvpath_m)\n",
    "#df_m.count()\n",
    "dfm = df_m.dropna()\n",
    "dfm.head"
   ]
  },
  {
   "cell_type": "code",
   "execution_count": 10,
   "metadata": {},
   "outputs": [
    {
     "data": {
      "text/html": [
       "<div>\n",
       "<style>\n",
       "    .dataframe thead tr:only-child th {\n",
       "        text-align: right;\n",
       "    }\n",
       "\n",
       "    .dataframe thead th {\n",
       "        text-align: left;\n",
       "    }\n",
       "\n",
       "    .dataframe tbody tr th {\n",
       "        vertical-align: top;\n",
       "    }\n",
       "</style>\n",
       "<table border=\"1\" class=\"dataframe\">\n",
       "  <thead>\n",
       "    <tr style=\"text-align: right;\">\n",
       "      <th></th>\n",
       "      <th>station</th>\n",
       "      <th>name</th>\n",
       "      <th>latitude</th>\n",
       "      <th>longitude</th>\n",
       "      <th>elevation</th>\n",
       "    </tr>\n",
       "  </thead>\n",
       "  <tbody>\n",
       "    <tr>\n",
       "      <th>0</th>\n",
       "      <td>USC00519397</td>\n",
       "      <td>WAIKIKI 717.2, HI US</td>\n",
       "      <td>21.2716</td>\n",
       "      <td>-157.8168</td>\n",
       "      <td>3.0</td>\n",
       "    </tr>\n",
       "    <tr>\n",
       "      <th>1</th>\n",
       "      <td>USC00513117</td>\n",
       "      <td>KANEOHE 838.1, HI US</td>\n",
       "      <td>21.4234</td>\n",
       "      <td>-157.8015</td>\n",
       "      <td>14.6</td>\n",
       "    </tr>\n",
       "    <tr>\n",
       "      <th>2</th>\n",
       "      <td>USC00514830</td>\n",
       "      <td>KUALOA RANCH HEADQUARTERS 886.9, HI US</td>\n",
       "      <td>21.5213</td>\n",
       "      <td>-157.8374</td>\n",
       "      <td>7.0</td>\n",
       "    </tr>\n",
       "    <tr>\n",
       "      <th>3</th>\n",
       "      <td>USC00517948</td>\n",
       "      <td>PEARL CITY, HI US</td>\n",
       "      <td>21.3934</td>\n",
       "      <td>-157.9751</td>\n",
       "      <td>11.9</td>\n",
       "    </tr>\n",
       "    <tr>\n",
       "      <th>4</th>\n",
       "      <td>USC00518838</td>\n",
       "      <td>UPPER WAHIAWA 874.3, HI US</td>\n",
       "      <td>21.4992</td>\n",
       "      <td>-158.0111</td>\n",
       "      <td>306.6</td>\n",
       "    </tr>\n",
       "  </tbody>\n",
       "</table>\n",
       "</div>"
      ],
      "text/plain": [
       "       station                                    name  latitude  longitude  \\\n",
       "0  USC00519397                    WAIKIKI 717.2, HI US   21.2716  -157.8168   \n",
       "1  USC00513117                    KANEOHE 838.1, HI US   21.4234  -157.8015   \n",
       "2  USC00514830  KUALOA RANCH HEADQUARTERS 886.9, HI US   21.5213  -157.8374   \n",
       "3  USC00517948                       PEARL CITY, HI US   21.3934  -157.9751   \n",
       "4  USC00518838              UPPER WAHIAWA 874.3, HI US   21.4992  -158.0111   \n",
       "\n",
       "   elevation  \n",
       "0        3.0  \n",
       "1       14.6  \n",
       "2        7.0  \n",
       "3       11.9  \n",
       "4      306.6  "
      ]
     },
     "execution_count": 10,
     "metadata": {},
     "output_type": "execute_result"
    }
   ],
   "source": [
    "dfs = pd.read_csv(csvpath_s)\n",
    "dfs.head()"
   ]
  },
  {
   "cell_type": "code",
   "execution_count": 11,
   "metadata": {},
   "outputs": [],
   "source": [
    "dfm.to_csv('clean_hawaii_measurements.csv', index=False)"
   ]
  },
  {
   "cell_type": "code",
   "execution_count": 12,
   "metadata": {
    "collapsed": true
   },
   "outputs": [],
   "source": [
    "dfs.to_csv('clean_hawaii_stations.csv', index=False)"
   ]
  },
  {
   "cell_type": "code",
   "execution_count": null,
   "metadata": {
    "collapsed": true
   },
   "outputs": [],
   "source": []
  }
 ],
 "metadata": {
  "kernelspec": {
   "display_name": "Python [conda env:PythonData]",
   "language": "python",
   "name": "conda-env-PythonData-py"
  },
  "language_info": {
   "codemirror_mode": {
    "name": "ipython",
    "version": 3
   },
   "file_extension": ".py",
   "mimetype": "text/x-python",
   "name": "python",
   "nbconvert_exporter": "python",
   "pygments_lexer": "ipython3",
   "version": "3.6.1"
  }
 },
 "nbformat": 4,
 "nbformat_minor": 2
}
